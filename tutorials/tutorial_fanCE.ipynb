{
 "cells": [
  {
   "cell_type": "markdown",
   "id": "66fce3ac",
   "metadata": {},
   "source": [
    "# fanCE Tutorial\n",
    "\n",
    "In this tutorial, we will use <span style=\"background-color: #F2F2F2\">fanCE</span> to generate the star formation history, abundance evolutions, and mean stellar properties for the reference model in Gountanis et al. 2024. \n",
    "\n",
    "To run this tutorial, you will need the files <span style=\"background-color: #F2F2F2\">fanCE.py</span>, <span style=\"background-color: #F2F2F2\">fanCE_par.py</span>, <span style=\"background-color: #F2F2F2\">fanCE_plot.py</span>, and <span style=\"background-color: #F2F2F2\">fanCE_stellar.py</span>, which can be found on this [GitHub](https://github.com/nmgountanis/fanCE). <span style=\"background-color: #F2F2F2\">fanCE.py</span> contains functions for analytic one-zone chemical evolution. <span style=\"background-color: #F2F2F2\">fanCE_par.py</span> contains the default parameters used to describe the reference model in Gountanis et al. 2024. <span style=\"background-color: #F2F2F2\">fanCE_plot.py</span> contains functions to produce select figures in Gountanis et al. 2024. <span style=\"background-color: #F2F2F2\">fanCE_stellar.py</span> contains functions for determining light-weighted, log-averaged stellar ages and abundances. \n",
    "\n",
    "\n",
    "Let's import <span style=\"background-color: #F2F2F2\">fanCE.py</span>, <span style=\"background-color: #F2F2F2\">fanCE_par.py</span>, <span style=\"background-color: #F2F2F2\">fanCE_plot.py</span>, <span style=\"background-color: #F2F2F2\">fanCE_stellar.py</span> and a few other modules we'll need:"
   ]
  },
  {
   "cell_type": "code",
   "execution_count": 1,
   "id": "244ed47c",
   "metadata": {
    "execution": {
     "iopub.execute_input": "2024-04-24T18:38:47.947479Z",
     "iopub.status.busy": "2024-04-24T18:38:47.946995Z",
     "iopub.status.idle": "2024-04-24T18:38:49.653162Z",
     "shell.execute_reply": "2024-04-24T18:38:49.652313Z",
     "shell.execute_reply.started": "2024-04-24T18:38:47.947439Z"
    }
   },
   "outputs": [],
   "source": [
    "import numpy as np\n",
    "import matplotlib.pyplot as plt\n",
    "from fance.models import fance\n",
    "import fance.par as p\n",
    "from fance.plotting import plotSFH, plotGas, plotStellar\n",
    "from fance.stellar import weight, stellar"
   ]
  },
  {
   "cell_type": "markdown",
   "id": "4bcc4ab6",
   "metadata": {},
   "source": [
    "## Star Formation History and Gas Abundance Evolution\n",
    "\n",
    "We will begin by generating star formation histories and gas abundance evolutions of [O/H], [Mg/H], [Fe/H], [O/Fe], and [Mg/Fe] using the function <span style=\"background-color: #F2F2F2\">fance( )</span>. \n",
    "\n",
    "<span style=\"background-color: #F2F2F2\">fance( )</span> implements a two-parameter star formation history $\\propto(1-e^{-t/\\tau_1})\\cdot e^{-t/\\tau_2}$, which rises linearly on a timescale $\\tau_1$ and then falls exponentially on a timescale $\\tau_2$ for $\\tau_1>\\tau_2>0$."
   ]
  },
  {
   "cell_type": "code",
   "execution_count": 2,
   "id": "fa6a374c",
   "metadata": {
    "execution": {
     "iopub.execute_input": "2024-04-24T18:38:49.655014Z",
     "iopub.status.busy": "2024-04-24T18:38:49.654531Z",
     "iopub.status.idle": "2024-04-24T18:38:49.663143Z",
     "shell.execute_reply": "2024-04-24T18:38:49.662204Z",
     "shell.execute_reply.started": "2024-04-24T18:38:49.654984Z"
    }
   },
   "outputs": [],
   "source": [
    "t,sfr,OH,MgH,FeH,OFe,MgFe = fance(p.tstart,p.t0,p.dtout,p.mocc,p.mmgcc,p.mfecc,p.fret,p.mfeIa,p.r,p.SolarO,\n",
    "                                  p.SolarMg,p.SolarFe,p.tauIa,p.tdmin,p.eta,p.tauStar,p.tau1,p.tau2)"
   ]
  },
  {
   "cell_type": "markdown",
   "id": "0463fbec",
   "metadata": {},
   "source": [
    "We can plot the star formation history using <span style=\"background-color: #F2F2F2\">plotSFH( )</span>. Here, the star formation history is normalized to give the galaxy's stellar mass formed per Gyr:"
   ]
  },
  {
   "cell_type": "code",
   "execution_count": 3,
   "id": "7884e678",
   "metadata": {
    "execution": {
     "iopub.execute_input": "2024-04-24T18:38:49.666910Z",
     "iopub.status.busy": "2024-04-24T18:38:49.666495Z",
     "iopub.status.idle": "2024-04-24T18:38:50.204574Z",
     "shell.execute_reply": "2024-04-24T18:38:50.203304Z",
     "shell.execute_reply.started": "2024-04-24T18:38:49.666879Z"
    }
   },
   "outputs": [
    {
     "data": {
      "image/png": "[encoded data removed]",
      "text/plain": [
       "<Figure size 500x500 with 1 Axes>"
      ]
     },
     "metadata": {},
     "output_type": "display_data"
    }
   ],
   "source": [
    "plotSFH(t,sfr,p.dtout,\"reference model\")"
   ]
  },
  {
   "cell_type": "markdown",
   "id": "325a9f53",
   "metadata": {},
   "source": [
    "We can plot [Mg/H], [Fe/H], and [Mg/Fe] versus time using <span style=\"background-color: #F2F2F2\">plotGas( )</span>. [O/H] and [O/Fe] are not included in <span style=\"background-color: #F2F2F2\">plotGas( )</span> since they have identical evolution tracks to [Mg/H] and [Mg/Fe], respectively."
   ]
  },
  {
   "cell_type": "code",
   "execution_count": null,
   "id": "6050c32c",
   "metadata": {
    "execution": {
     "iopub.execute_input": "2024-04-24T18:38:50.206605Z",
     "iopub.status.busy": "2024-04-24T18:38:50.206168Z"
    }
   },
   "outputs": [],
   "source": [
    "plotGas(t,MgH,FeH,MgFe,\"reference model\")"
   ]
  },
  {
   "cell_type": "markdown",
   "id": "97383ed9",
   "metadata": {},
   "source": [
    "## Mean Age and Stellar Abundance Evolution\n",
    "\n",
    "Now we will use the star formation history and gas abundances generated by <span style=\"background-color: #F2F2F2\">fance( )</span> to determine the light-weighted, log-averaged stellar age and abundances.\n",
    "\n",
    "Let's start by computing the light-weighting function using <span style=\"background-color: #F2F2F2\">weight( )</span>. Setting <span style=\"background-color: #F2F2F2\">$t_0=0$</span> returns <span style=\"background-color: #F2F2F2\">lightweight=1</span>, corresponding to mass-weighting."
   ]
  },
  {
   "cell_type": "code",
   "execution_count": null,
   "id": "53952de3",
   "metadata": {},
   "outputs": [],
   "source": [
    "lightweight = weight(t,p.t0)"
   ]
  },
  {
   "cell_type": "markdown",
   "id": "521d07ba",
   "metadata": {},
   "source": [
    "The function <span style=\"background-color: #F2F2F2\">stellar( )</span> returns $\\langle$age$\\rangle$, $\\langle$[O/H]$\\rangle$, $\\langle$[Mg/H]$\\rangle$, $\\langle$[Fe/H]$\\rangle$, $\\langle$[O/Fe]$\\rangle$, $\\langle$[Mg/Fe]$\\rangle$:"
   ]
  },
  {
   "cell_type": "code",
   "execution_count": null,
   "id": "51282460",
   "metadata": {},
   "outputs": [],
   "source": [
    "mean_age,OHStar,MgHStar,FeHStar,OFeStar,MgFeStar=stellar(t,p.t0,sfr,lightweight,OH,MgH,FeH,OFe,MgFe)"
   ]
  },
  {
   "cell_type": "markdown",
   "id": "c1fe2bd3",
   "metadata": {},
   "source": [
    "We can plot $\\langle$age$\\rangle$, [Mg/H], $\\langle$[Mg/H]$\\rangle$, [Mg/Fe], and $\\langle$[Mg/Fe]$\\rangle$ versus time as well as $\\langle$[Mg/H]$\\rangle$ and $\\langle$[Mg/Fe]$\\rangle$ versus $\\langle$age$\\rangle$ using <span style=\"background-color: #F2F2F2\">plotStellar( )</span>. [O/H], $\\langle$[O/H]$\\rangle$, [O/Fe], and $\\langle$[O/Fe]$\\rangle$ are not included in <span style=\"background-color: #F2F2F2\">plotStellar( )</span> since they have identical evolution tracks to [Mg/H], $\\langle$[Mg/H]$\\rangle$, [Mg/Fe], and $\\langle$[Mg/Fe]$\\rangle$, respectively."
   ]
  },
  {
   "cell_type": "code",
   "execution_count": null,
   "id": "53d42bd2",
   "metadata": {},
   "outputs": [],
   "source": [
    "plotStellar(t,sfr,p.dtout,mean_age,MgH,MgFe,MgHStar,MgFeStar,\"reference model\")"
   ]
  }
 ],
 "metadata": {
  "kernelspec": {
   "display_name": "s5",
   "language": "python",
   "name": "s5"
  },
  "language_info": {
   "codemirror_mode": {
    "name": "ipython",
    "version": 3
   },
   "file_extension": ".py",
   "mimetype": "text/x-python",
   "name": "python",
   "nbconvert_exporter": "python",
   "pygments_lexer": "ipython3",
   "version": "3.10.14"
  }
 },
 "nbformat": 4,
 "nbformat_minor": 5
}
