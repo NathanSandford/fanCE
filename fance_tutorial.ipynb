{
 "cells": [
  {
   "cell_type": "markdown",
   "id": "66fce3ac",
   "metadata": {},
   "source": [
    "# fanCE Tutorial\n",
    "\n",
    "In this tutorial, we will use FANC-E to generate star formation histories, mean ages, and abundance evolutions for a range of input parameters. \n",
    "\n",
    "To run this tutorial, you will need the files \"fanCE.py\", \"fanCE_par.py\", and \"fanCE_plot.py\", which can be found on my [GitHub](https://github.com/nmgountanis/FANC-E). \"fanCE.py\" contains functions for analytic one-zone chemical evolution. \"fanCE_par.py\" contains the default parameters used to describe the reference model in Gountanis et al. 2024. \"fanCE_plot.py\" contains functions to produce select figures in Gountanis et al. 2024. \n",
    "\n",
    "\n",
    "Let's import \"fance.py\", \"fance_par.py\", \"fanCE_plot.py\", and a few other modules we'll need:"
   ]
  },
  {
   "cell_type": "code",
   "execution_count": 3,
   "id": "244ed47c",
   "metadata": {},
   "outputs": [],
   "source": [
    "import numpy as np\n",
    "import matplotlib.pyplot as plt\n",
    "from fanCE import *\n",
    "from fanCE_plot import *\n",
    "import fanCE_par as p"
   ]
  },
  {
   "cell_type": "markdown",
   "id": "70139d81",
   "metadata": {},
   "source": [
    "### Star Formation and Gas Abundances\n",
    "\n"
   ]
  },
  {
   "cell_type": "code",
   "execution_count": null,
   "id": "315620ae",
   "metadata": {},
   "outputs": [],
   "source": []
  }
 ],
 "metadata": {
  "kernelspec": {
   "display_name": "Python 3 (ipykernel)",
   "language": "python",
   "name": "python3"
  },
  "language_info": {
   "codemirror_mode": {
    "name": "ipython",
    "version": 3
   },
   "file_extension": ".py",
   "mimetype": "text/x-python",
   "name": "python",
   "nbconvert_exporter": "python",
   "pygments_lexer": "ipython3",
   "version": "3.11.4"
  }
 },
 "nbformat": 4,
 "nbformat_minor": 5
}
