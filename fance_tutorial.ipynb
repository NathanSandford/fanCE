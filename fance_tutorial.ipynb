{
 "cells": [
  {
   "cell_type": "markdown",
   "id": "66fce3ac",
   "metadata": {},
   "source": [
    "# fanCE Tutorial\n",
    "\n",
    "In this tutorial, we will use FANC-E to generate star formation histories, mean ages, and abundance evolutions for a range of input parameters. To run this tutorial, you will need the files \"fance.py\" and \"fance_par.py\", which can be found on my [GitHub](https://github.com/nmgountanis/FANC-E). \n",
    "\n",
    "Let's import \"fance.py\", \"fance_par.py\", and a few other modules we'll need:"
   ]
  },
  {
   "cell_type": "code",
   "execution_count": 2,
   "id": "244ed47c",
   "metadata": {},
   "outputs": [],
   "source": [
    "import numpy as np\n",
    "from fance import *\n",
    "import fance_par as p"
   ]
  },
  {
   "cell_type": "code",
   "execution_count": null,
   "id": "575523b8",
   "metadata": {},
   "outputs": [],
   "source": []
  }
 ],
 "metadata": {
  "kernelspec": {
   "display_name": "Python 3 (ipykernel)",
   "language": "python",
   "name": "python3"
  },
  "language_info": {
   "codemirror_mode": {
    "name": "ipython",
    "version": 3
   },
   "file_extension": ".py",
   "mimetype": "text/x-python",
   "name": "python",
   "nbconvert_exporter": "python",
   "pygments_lexer": "ipython3",
   "version": "3.11.4"
  }
 },
 "nbformat": 4,
 "nbformat_minor": 5
}
